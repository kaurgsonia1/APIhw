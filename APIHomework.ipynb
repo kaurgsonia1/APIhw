{
 "cells": [
  {
   "cell_type": "markdown",
   "metadata": {},
   "source": [
    "# Unit 5 - Financial Planning\n"
   ]
  },
  {
   "cell_type": "code",
   "execution_count": 2,
   "metadata": {},
   "outputs": [],
   "source": [
    "# Initial imports\n",
    "import os\n",
    "import requests\n",
    "import pandas as pd\n",
    "from dotenv import load_dotenv\n",
    "import alpaca_trade_api as tradeapi\n",
    "from MCForecastTools import MCSimulation\n",
    "import matplotlib.pyplot as plt\n",
    "from pprint import pprint\n",
    "\n",
    "%matplotlib inline"
   ]
  },
  {
   "cell_type": "code",
   "execution_count": 9,
   "metadata": {},
   "outputs": [
    {
     "data": {
      "text/plain": [
       "True"
      ]
     },
     "execution_count": 9,
     "metadata": {},
     "output_type": "execute_result"
    }
   ],
   "source": [
    "# Load .env enviroment variables\n",
    "load_dotenv('C:\\\\Users\\Dave Family\\Desktop\\Trilogy\\myFinTech\\apihw2.env')"
   ]
  },
  {
   "cell_type": "markdown",
   "metadata": {},
   "source": [
    "## Part 1 - Personal Finance Planner"
   ]
  },
  {
   "cell_type": "markdown",
   "metadata": {},
   "source": [
    "### Collect Crypto Prices Using the `requests` Library"
   ]
  },
  {
   "cell_type": "code",
   "execution_count": 10,
   "metadata": {},
   "outputs": [
    {
     "data": {
      "text/plain": [
       "'AK1YEHD78KAMCIYKFH6V'"
      ]
     },
     "execution_count": 10,
     "metadata": {},
     "output_type": "execute_result"
    }
   ],
   "source": [
    "os.getenv('ALPACA_API_KEY')"
   ]
  },
  {
   "cell_type": "code",
   "execution_count": 11,
   "metadata": {},
   "outputs": [],
   "source": [
    "# Set current amount of crypto assets\n",
    "my_btc=2\n",
    "my_eth=50\n"
   ]
  },
  {
   "cell_type": "code",
   "execution_count": 12,
   "metadata": {},
   "outputs": [],
   "source": [
    "# Crypto API URLs\n",
    "btc_url = \"https://api.alternative.me/v2/ticker/Bitcoin/?convert=CAD\"\n",
    "eth_url = \"https://api.alternative.me/v2/ticker/Ethereum/?convert=CAD\""
   ]
  },
  {
   "cell_type": "code",
   "execution_count": 13,
   "metadata": {},
   "outputs": [
    {
     "name": "stdout",
     "output_type": "stream",
     "text": [
      "The current value of your 2 BTC is $117756.00\n",
      "The current value of your 50 ETH is $98557.50\n"
     ]
    }
   ],
   "source": [
    "# Fetch current BTC price\n",
    "btc_response=requests.get(btc_url)\n",
    "\n",
    "# Fetch current ETH price\n",
    "eth_response=requests.get(eth_url)\n",
    "\n",
    "# Compute current value of my crpto\n",
    "#pprint(btc_price.json())\n",
    "btc_price=btc_response.json()['data']['1']['quotes']['USD']['price']\n",
    "#pprint(eth_price.json())\n",
    "\n",
    "eth_price=eth_response.json()['data']['1027']['quotes']['USD']['price']\n",
    "\n",
    "my_btc_value=btc_price*my_btc\n",
    "my_eth_value=eth_price*my_eth\n",
    "\n",
    "# Print current crypto wallet balance\n",
    "print(f\"The current value of your {my_btc} BTC is ${my_btc_value:0.2f}\")\n",
    "print(f\"The current value of your {my_eth} ETH is ${my_eth_value:0.2f}\")\n",
    "\n",
    "# The current value of your 2 BTC is $10000\")"
   ]
  },
  {
   "cell_type": "markdown",
   "metadata": {},
   "source": [
    "### Collect Investments Data Using Alpaca: `SPY` (stocks) and `AGG` (bonds)"
   ]
  },
  {
   "cell_type": "code",
   "execution_count": 14,
   "metadata": {},
   "outputs": [],
   "source": [
    "# Current amount of shares\n",
    "my_spy=20\n",
    "\n",
    "my_agg=35"
   ]
  },
  {
   "cell_type": "code",
   "execution_count": 15,
   "metadata": {},
   "outputs": [],
   "source": [
    "alpaca_api_key = os.getenv(\"ALPACA_API_KEY\")"
   ]
  },
  {
   "cell_type": "code",
   "execution_count": 51,
   "metadata": {},
   "outputs": [
    {
     "name": "stdout",
     "output_type": "stream",
     "text": [
      "<class 'str'>\n",
      "<class 'str'>\n"
     ]
    }
   ],
   "source": [
    "# Set Alpaca API key and secret\n",
    "alpaca_api_key = os.getenv(\"ALPACA_API_KEY\")\n",
    "\n",
    "# alpaca_api_key =\"AK1YEHD78KAMCIYKFH6V\"\n",
    "print(type(alpaca_api_key))\n",
    "alpaca_secret_key = os.getenv(\"ALPACA_SECRET_KEY\")\n",
    "\n",
    "# alpaca_secret_key=\"bZ5KEEsXuIwfzG0ZMl4PVbQe7iREhCZqoqWH1nJc\"\n",
    "print(type(alpaca_secret_key))\n",
    "# Create the Alpaca API object\n",
    "alpaca = tradeapi.REST(\n",
    "    alpaca_api_key,\n",
    "    alpaca_secret_key,\n",
    "    api_version=\"v2\")"
   ]
  },
  {
   "cell_type": "code",
   "execution_count": 49,
   "metadata": {},
   "outputs": [],
   "source": []
  },
  {
   "cell_type": "code",
   "execution_count": 77,
   "metadata": {},
   "outputs": [
    {
     "name": "stdout",
     "output_type": "stream",
     "text": [
      "2021-03-27T00:00:00-04:00\n"
     ]
    },
    {
     "data": {
      "text/html": [
       "<div>\n",
       "<style scoped>\n",
       "    .dataframe tbody tr th:only-of-type {\n",
       "        vertical-align: middle;\n",
       "    }\n",
       "\n",
       "    .dataframe tbody tr th {\n",
       "        vertical-align: top;\n",
       "    }\n",
       "\n",
       "    .dataframe thead tr th {\n",
       "        text-align: left;\n",
       "    }\n",
       "\n",
       "    .dataframe thead tr:last-of-type th {\n",
       "        text-align: right;\n",
       "    }\n",
       "</style>\n",
       "<table border=\"1\" class=\"dataframe\">\n",
       "  <thead>\n",
       "    <tr>\n",
       "      <th></th>\n",
       "      <th colspan=\"5\" halign=\"left\">AGG</th>\n",
       "      <th colspan=\"5\" halign=\"left\">SPY</th>\n",
       "    </tr>\n",
       "    <tr>\n",
       "      <th></th>\n",
       "      <th>open</th>\n",
       "      <th>high</th>\n",
       "      <th>low</th>\n",
       "      <th>close</th>\n",
       "      <th>volume</th>\n",
       "      <th>open</th>\n",
       "      <th>high</th>\n",
       "      <th>low</th>\n",
       "      <th>close</th>\n",
       "      <th>volume</th>\n",
       "    </tr>\n",
       "    <tr>\n",
       "      <th>time</th>\n",
       "      <th></th>\n",
       "      <th></th>\n",
       "      <th></th>\n",
       "      <th></th>\n",
       "      <th></th>\n",
       "      <th></th>\n",
       "      <th></th>\n",
       "      <th></th>\n",
       "      <th></th>\n",
       "      <th></th>\n",
       "    </tr>\n",
       "  </thead>\n",
       "  <tbody>\n",
       "    <tr>\n",
       "      <th>2020-02-21 00:00:00-05:00</th>\n",
       "      <td>114.86</td>\n",
       "      <td>115.1000</td>\n",
       "      <td>114.8400</td>\n",
       "      <td>114.910</td>\n",
       "      <td>3805815</td>\n",
       "      <td>335.46</td>\n",
       "      <td>335.7950</td>\n",
       "      <td>332.58</td>\n",
       "      <td>333.49</td>\n",
       "      <td>88418384</td>\n",
       "    </tr>\n",
       "    <tr>\n",
       "      <th>2020-02-24 00:00:00-05:00</th>\n",
       "      <td>115.43</td>\n",
       "      <td>115.4300</td>\n",
       "      <td>115.2300</td>\n",
       "      <td>115.270</td>\n",
       "      <td>7008307</td>\n",
       "      <td>323.14</td>\n",
       "      <td>333.5623</td>\n",
       "      <td>321.24</td>\n",
       "      <td>322.41</td>\n",
       "      <td>127181403</td>\n",
       "    </tr>\n",
       "    <tr>\n",
       "      <th>2020-02-25 00:00:00-05:00</th>\n",
       "      <td>115.28</td>\n",
       "      <td>115.5800</td>\n",
       "      <td>115.2700</td>\n",
       "      <td>115.470</td>\n",
       "      <td>6935476</td>\n",
       "      <td>323.94</td>\n",
       "      <td>324.6100</td>\n",
       "      <td>311.69</td>\n",
       "      <td>312.70</td>\n",
       "      <td>180541365</td>\n",
       "    </tr>\n",
       "    <tr>\n",
       "      <th>2020-02-26 00:00:00-05:00</th>\n",
       "      <td>115.32</td>\n",
       "      <td>115.6100</td>\n",
       "      <td>115.2600</td>\n",
       "      <td>115.340</td>\n",
       "      <td>3990647</td>\n",
       "      <td>314.18</td>\n",
       "      <td>318.1100</td>\n",
       "      <td>310.70</td>\n",
       "      <td>311.55</td>\n",
       "      <td>157515903</td>\n",
       "    </tr>\n",
       "    <tr>\n",
       "      <th>2020-02-27 00:00:00-05:00</th>\n",
       "      <td>115.75</td>\n",
       "      <td>115.7500</td>\n",
       "      <td>115.3500</td>\n",
       "      <td>115.380</td>\n",
       "      <td>8587726</td>\n",
       "      <td>305.46</td>\n",
       "      <td>311.5637</td>\n",
       "      <td>297.52</td>\n",
       "      <td>297.55</td>\n",
       "      <td>233673112</td>\n",
       "    </tr>\n",
       "    <tr>\n",
       "      <th>...</th>\n",
       "      <td>...</td>\n",
       "      <td>...</td>\n",
       "      <td>...</td>\n",
       "      <td>...</td>\n",
       "      <td>...</td>\n",
       "      <td>...</td>\n",
       "      <td>...</td>\n",
       "      <td>...</td>\n",
       "      <td>...</td>\n",
       "      <td>...</td>\n",
       "    </tr>\n",
       "    <tr>\n",
       "      <th>2020-07-08 00:00:00-04:00</th>\n",
       "      <td>118.35</td>\n",
       "      <td>118.4500</td>\n",
       "      <td>118.2200</td>\n",
       "      <td>118.305</td>\n",
       "      <td>3942821</td>\n",
       "      <td>314.61</td>\n",
       "      <td>316.3000</td>\n",
       "      <td>312.70</td>\n",
       "      <td>316.12</td>\n",
       "      <td>48519883</td>\n",
       "    </tr>\n",
       "    <tr>\n",
       "      <th>2020-07-09 00:00:00-04:00</th>\n",
       "      <td>118.40</td>\n",
       "      <td>118.7000</td>\n",
       "      <td>118.3553</td>\n",
       "      <td>118.640</td>\n",
       "      <td>3560921</td>\n",
       "      <td>316.84</td>\n",
       "      <td>317.1000</td>\n",
       "      <td>310.68</td>\n",
       "      <td>314.42</td>\n",
       "      <td>73998876</td>\n",
       "    </tr>\n",
       "    <tr>\n",
       "      <th>2020-07-10 00:00:00-04:00</th>\n",
       "      <td>118.83</td>\n",
       "      <td>118.8300</td>\n",
       "      <td>118.4500</td>\n",
       "      <td>118.470</td>\n",
       "      <td>2910802</td>\n",
       "      <td>314.31</td>\n",
       "      <td>317.8800</td>\n",
       "      <td>312.76</td>\n",
       "      <td>317.61</td>\n",
       "      <td>49822174</td>\n",
       "    </tr>\n",
       "    <tr>\n",
       "      <th>2020-07-13 00:00:00-04:00</th>\n",
       "      <td>118.46</td>\n",
       "      <td>118.5287</td>\n",
       "      <td>118.3700</td>\n",
       "      <td>118.480</td>\n",
       "      <td>4032929</td>\n",
       "      <td>320.13</td>\n",
       "      <td>322.7100</td>\n",
       "      <td>314.13</td>\n",
       "      <td>314.81</td>\n",
       "      <td>87626307</td>\n",
       "    </tr>\n",
       "    <tr>\n",
       "      <th>2020-07-14 00:00:00-04:00</th>\n",
       "      <td>118.58</td>\n",
       "      <td>118.7400</td>\n",
       "      <td>118.5800</td>\n",
       "      <td>118.655</td>\n",
       "      <td>3611959</td>\n",
       "      <td>313.30</td>\n",
       "      <td>319.7600</td>\n",
       "      <td>312.00</td>\n",
       "      <td>318.89</td>\n",
       "      <td>79292036</td>\n",
       "    </tr>\n",
       "  </tbody>\n",
       "</table>\n",
       "<p>100 rows × 10 columns</p>\n",
       "</div>"
      ],
      "text/plain": [
       "                              AGG                                        \\\n",
       "                             open      high       low    close   volume   \n",
       "time                                                                      \n",
       "2020-02-21 00:00:00-05:00  114.86  115.1000  114.8400  114.910  3805815   \n",
       "2020-02-24 00:00:00-05:00  115.43  115.4300  115.2300  115.270  7008307   \n",
       "2020-02-25 00:00:00-05:00  115.28  115.5800  115.2700  115.470  6935476   \n",
       "2020-02-26 00:00:00-05:00  115.32  115.6100  115.2600  115.340  3990647   \n",
       "2020-02-27 00:00:00-05:00  115.75  115.7500  115.3500  115.380  8587726   \n",
       "...                           ...       ...       ...      ...      ...   \n",
       "2020-07-08 00:00:00-04:00  118.35  118.4500  118.2200  118.305  3942821   \n",
       "2020-07-09 00:00:00-04:00  118.40  118.7000  118.3553  118.640  3560921   \n",
       "2020-07-10 00:00:00-04:00  118.83  118.8300  118.4500  118.470  2910802   \n",
       "2020-07-13 00:00:00-04:00  118.46  118.5287  118.3700  118.480  4032929   \n",
       "2020-07-14 00:00:00-04:00  118.58  118.7400  118.5800  118.655  3611959   \n",
       "\n",
       "                              SPY                                       \n",
       "                             open      high     low   close     volume  \n",
       "time                                                                    \n",
       "2020-02-21 00:00:00-05:00  335.46  335.7950  332.58  333.49   88418384  \n",
       "2020-02-24 00:00:00-05:00  323.14  333.5623  321.24  322.41  127181403  \n",
       "2020-02-25 00:00:00-05:00  323.94  324.6100  311.69  312.70  180541365  \n",
       "2020-02-26 00:00:00-05:00  314.18  318.1100  310.70  311.55  157515903  \n",
       "2020-02-27 00:00:00-05:00  305.46  311.5637  297.52  297.55  233673112  \n",
       "...                           ...       ...     ...     ...        ...  \n",
       "2020-07-08 00:00:00-04:00  314.61  316.3000  312.70  316.12   48519883  \n",
       "2020-07-09 00:00:00-04:00  316.84  317.1000  310.68  314.42   73998876  \n",
       "2020-07-10 00:00:00-04:00  314.31  317.8800  312.76  317.61   49822174  \n",
       "2020-07-13 00:00:00-04:00  320.13  322.7100  314.13  314.81   87626307  \n",
       "2020-07-14 00:00:00-04:00  313.30  319.7600  312.00  318.89   79292036  \n",
       "\n",
       "[100 rows x 10 columns]"
      ]
     },
     "execution_count": 77,
     "metadata": {},
     "output_type": "execute_result"
    }
   ],
   "source": [
    "# Format current date as ISO format\n",
    "current = pd.Timestamp(\"2021-03-27\", tz=\"America/New_York\").isoformat()\n",
    "print(current)\n",
    "# Set the tickers\n",
    "tickers = [\"AGG\", \"SPY\"]\n",
    "\n",
    "# Set timeframe to '1D' for Alpaca API\n",
    "timeframe = \"1D\"\n",
    "\n",
    "# Get current closing prices for SPY and AGG\n",
    "start = pd.Timestamp(\"2019-07-14\", tz=\"America/New_York\").isoformat()\n",
    "end = pd.Timestamp(\"2020-07-14\", tz=\"America/New_York\").isoformat()\n",
    "\n",
    "current_price = alpaca.get_barset(\n",
    "    tickers,\n",
    "    timeframe,\n",
    "    start = start, \n",
    "    end = end, \n",
    ").df\n",
    "\n",
    "\n",
    "# Preview DataFrame\n",
    "current_price"
   ]
  },
  {
   "cell_type": "code",
   "execution_count": 78,
   "metadata": {},
   "outputs": [
    {
     "name": "stdout",
     "output_type": "stream",
     "text": [
      "Current AGG closing price: $114.91\n",
      "Current SPY closing price: $333.49\n"
     ]
    }
   ],
   "source": [
    "# Pick AGG and SPY close prices\n",
    "agg_close_price = current_price[\"AGG\"][\"close\"][0]\n",
    "spy_close_price = current_price[\"SPY\"][\"close\"][0]\n",
    "# Print AGG and SPY close prices\n",
    "print(f\"Current AGG closing price: ${agg_close_price}\")\n",
    "print(f\"Current SPY closing price: ${spy_close_price}\")"
   ]
  },
  {
   "cell_type": "code",
   "execution_count": 79,
   "metadata": {},
   "outputs": [
    {
     "data": {
      "text/plain": [
       "MultiIndex([('AGG',   'open'),\n",
       "            ('AGG',   'high'),\n",
       "            ('AGG',    'low'),\n",
       "            ('AGG',  'close'),\n",
       "            ('AGG', 'volume'),\n",
       "            ('SPY',   'open'),\n",
       "            ('SPY',   'high'),\n",
       "            ('SPY',    'low'),\n",
       "            ('SPY',  'close'),\n",
       "            ('SPY', 'volume')],\n",
       "           )"
      ]
     },
     "execution_count": 79,
     "metadata": {},
     "output_type": "execute_result"
    }
   ],
   "source": [
    "current_price.columns"
   ]
  },
  {
   "cell_type": "code",
   "execution_count": 83,
   "metadata": {},
   "outputs": [
    {
     "name": "stdout",
     "output_type": "stream",
     "text": [
      "The current value of my SPY shares is $6669.80\n",
      "The current value of my AGG shares is $4021.85\n"
     ]
    }
   ],
   "source": [
    "# Compute the current value of shares\n",
    "my_agg_value = agg_close_price *my_agg\n",
    "my_spy_value = spy_close_price *my_spy\n",
    "# Print current value of share\n",
    "print(f\"The current value of my SPY shares is ${my_spy_value:.02f}\")\n",
    "print(f\"The current value of my AGG shares is ${my_agg_value}\")\n"
   ]
  },
  {
   "cell_type": "markdown",
   "metadata": {},
   "source": [
    "### Savings Health Analysis"
   ]
  },
  {
   "cell_type": "code",
   "execution_count": 84,
   "metadata": {},
   "outputs": [
    {
     "data": {
      "text/html": [
       "<div>\n",
       "<style scoped>\n",
       "    .dataframe tbody tr th:only-of-type {\n",
       "        vertical-align: middle;\n",
       "    }\n",
       "\n",
       "    .dataframe tbody tr th {\n",
       "        vertical-align: top;\n",
       "    }\n",
       "\n",
       "    .dataframe thead th {\n",
       "        text-align: right;\n",
       "    }\n",
       "</style>\n",
       "<table border=\"1\" class=\"dataframe\">\n",
       "  <thead>\n",
       "    <tr style=\"text-align: right;\">\n",
       "      <th></th>\n",
       "      <th>amount</th>\n",
       "    </tr>\n",
       "  </thead>\n",
       "  <tbody>\n",
       "    <tr>\n",
       "      <th>AGG</th>\n",
       "      <td>4021.85</td>\n",
       "    </tr>\n",
       "    <tr>\n",
       "      <th>SPY</th>\n",
       "      <td>6669.80</td>\n",
       "    </tr>\n",
       "    <tr>\n",
       "      <th>Income</th>\n",
       "      <td>10000.00</td>\n",
       "    </tr>\n",
       "  </tbody>\n",
       "</table>\n",
       "</div>"
      ],
      "text/plain": [
       "          amount\n",
       "AGG      4021.85\n",
       "SPY      6669.80\n",
       "Income  10000.00"
      ]
     },
     "execution_count": 84,
     "metadata": {},
     "output_type": "execute_result"
    }
   ],
   "source": [
    "# Set monthly household income\n",
    "monthly_income=10000\n",
    "\n",
    "# Create savings DataFrame\n",
    "savings_data=[my_agg_value, my_spy_value, monthly_income]\n",
    "# Display savings DataFrame\n",
    "\n",
    "\n",
    "df_savings=pd.DataFrame({'amount': savings_data}, index=['AGG', 'SPY', 'Income'])\n",
    "df_savings"
   ]
  },
  {
   "cell_type": "code",
   "execution_count": null,
   "metadata": {},
   "outputs": [],
   "source": []
  },
  {
   "cell_type": "code",
   "execution_count": 87,
   "metadata": {},
   "outputs": [
    {
     "data": {
      "text/plain": [
       "<AxesSubplot:ylabel='amount'>"
      ]
     },
     "execution_count": 87,
     "metadata": {},
     "output_type": "execute_result"
    },
    {
     "data": {
      "image/png": "[encoded data removed]",
      "text/plain": [
       "<Figure size 432x288 with 1 Axes>"
      ]
     },
     "metadata": {},
     "output_type": "display_data"
    }
   ],
   "source": [
    "# Plot savings pie chart\n",
    "df_savings.plot.pie(y=\"amount\")"
   ]
  },
  {
   "cell_type": "code",
   "execution_count": 88,
   "metadata": {},
   "outputs": [
    {
     "name": "stdout",
     "output_type": "stream",
     "text": [
      "The current amount of my savings is $40000\n"
     ]
    }
   ],
   "source": [
    "# Set ideal emergency fund\n",
    "emergency_fund = monthly_income * 3\n",
    "\n",
    "# Calculate total amount of savings\n",
    "total_savings= emergency_fund + monthly_income\n",
    "total_savings\n",
    "# Validate saving health\n",
    "print(f\"The current amount of my savings is ${total_savings}.\")"
   ]
  },
  {
   "cell_type": "markdown",
   "metadata": {},
   "source": [
    "## Part 2 - Retirement Planning\n",
    "\n",
    "### Monte Carlo Simulation"
   ]
  },
  {
   "cell_type": "code",
   "execution_count": 89,
   "metadata": {},
   "outputs": [],
   "source": [
    "# Set start and end dates of five years back from today.\n",
    "# Sample results may vary from the solution based on the time frame chosen\n",
    "start_date = pd.Timestamp('2016-03-28', tz='America/New_York').isoformat()\n",
    "end_date = pd.Timestamp('2021-03-28', tz='America/New_York').isoformat()\n",
    "\n",
    "ticker= [\"SPY\", \"AGG\"]\n",
    "\n",
    "timeframe = \"1D\""
   ]
  },
  {
   "cell_type": "code",
   "execution_count": 90,
   "metadata": {},
   "outputs": [
    {
     "data": {
      "text/html": [
       "<div>\n",
       "<style scoped>\n",
       "    .dataframe tbody tr th:only-of-type {\n",
       "        vertical-align: middle;\n",
       "    }\n",
       "\n",
       "    .dataframe tbody tr th {\n",
       "        vertical-align: top;\n",
       "    }\n",
       "\n",
       "    .dataframe thead tr th {\n",
       "        text-align: left;\n",
       "    }\n",
       "\n",
       "    .dataframe thead tr:last-of-type th {\n",
       "        text-align: right;\n",
       "    }\n",
       "</style>\n",
       "<table border=\"1\" class=\"dataframe\">\n",
       "  <thead>\n",
       "    <tr>\n",
       "      <th></th>\n",
       "      <th colspan=\"5\" halign=\"left\">AGG</th>\n",
       "      <th colspan=\"5\" halign=\"left\">SPY</th>\n",
       "    </tr>\n",
       "    <tr>\n",
       "      <th></th>\n",
       "      <th>open</th>\n",
       "      <th>high</th>\n",
       "      <th>low</th>\n",
       "      <th>close</th>\n",
       "      <th>volume</th>\n",
       "      <th>open</th>\n",
       "      <th>high</th>\n",
       "      <th>low</th>\n",
       "      <th>close</th>\n",
       "      <th>volume</th>\n",
       "    </tr>\n",
       "    <tr>\n",
       "      <th>time</th>\n",
       "      <th></th>\n",
       "      <th></th>\n",
       "      <th></th>\n",
       "      <th></th>\n",
       "      <th></th>\n",
       "      <th></th>\n",
       "      <th></th>\n",
       "      <th></th>\n",
       "      <th></th>\n",
       "      <th></th>\n",
       "    </tr>\n",
       "  </thead>\n",
       "  <tbody>\n",
       "    <tr>\n",
       "      <th>2017-04-06 00:00:00-04:00</th>\n",
       "      <td>108.64</td>\n",
       "      <td>108.71</td>\n",
       "      <td>108.4800</td>\n",
       "      <td>108.67</td>\n",
       "      <td>1599535</td>\n",
       "      <td>234.95</td>\n",
       "      <td>236.040</td>\n",
       "      <td>234.425</td>\n",
       "      <td>235.39</td>\n",
       "      <td>53559902</td>\n",
       "    </tr>\n",
       "    <tr>\n",
       "      <th>2017-04-07 00:00:00-04:00</th>\n",
       "      <td>108.80</td>\n",
       "      <td>108.89</td>\n",
       "      <td>108.4200</td>\n",
       "      <td>108.44</td>\n",
       "      <td>1668826</td>\n",
       "      <td>235.15</td>\n",
       "      <td>236.000</td>\n",
       "      <td>234.640</td>\n",
       "      <td>235.17</td>\n",
       "      <td>53293901</td>\n",
       "    </tr>\n",
       "    <tr>\n",
       "      <th>2017-04-10 00:00:00-04:00</th>\n",
       "      <td>108.53</td>\n",
       "      <td>108.65</td>\n",
       "      <td>108.4901</td>\n",
       "      <td>108.57</td>\n",
       "      <td>1751500</td>\n",
       "      <td>235.36</td>\n",
       "      <td>236.255</td>\n",
       "      <td>234.730</td>\n",
       "      <td>235.32</td>\n",
       "      <td>46610548</td>\n",
       "    </tr>\n",
       "    <tr>\n",
       "      <th>2017-04-11 00:00:00-04:00</th>\n",
       "      <td>108.76</td>\n",
       "      <td>108.98</td>\n",
       "      <td>108.7500</td>\n",
       "      <td>108.90</td>\n",
       "      <td>2054745</td>\n",
       "      <td>234.87</td>\n",
       "      <td>235.180</td>\n",
       "      <td>233.340</td>\n",
       "      <td>235.04</td>\n",
       "      <td>63951745</td>\n",
       "    </tr>\n",
       "    <tr>\n",
       "      <th>2017-04-12 00:00:00-04:00</th>\n",
       "      <td>108.93</td>\n",
       "      <td>109.20</td>\n",
       "      <td>108.8900</td>\n",
       "      <td>109.14</td>\n",
       "      <td>2243678</td>\n",
       "      <td>234.74</td>\n",
       "      <td>234.960</td>\n",
       "      <td>233.770</td>\n",
       "      <td>234.10</td>\n",
       "      <td>55338215</td>\n",
       "    </tr>\n",
       "  </tbody>\n",
       "</table>\n",
       "</div>"
      ],
      "text/plain": [
       "                              AGG                                        SPY  \\\n",
       "                             open    high       low   close   volume    open   \n",
       "time                                                                           \n",
       "2017-04-06 00:00:00-04:00  108.64  108.71  108.4800  108.67  1599535  234.95   \n",
       "2017-04-07 00:00:00-04:00  108.80  108.89  108.4200  108.44  1668826  235.15   \n",
       "2017-04-10 00:00:00-04:00  108.53  108.65  108.4901  108.57  1751500  235.36   \n",
       "2017-04-11 00:00:00-04:00  108.76  108.98  108.7500  108.90  2054745  234.87   \n",
       "2017-04-12 00:00:00-04:00  108.93  109.20  108.8900  109.14  2243678  234.74   \n",
       "\n",
       "                                                               \n",
       "                              high      low   close    volume  \n",
       "time                                                           \n",
       "2017-04-06 00:00:00-04:00  236.040  234.425  235.39  53559902  \n",
       "2017-04-07 00:00:00-04:00  236.000  234.640  235.17  53293901  \n",
       "2017-04-10 00:00:00-04:00  236.255  234.730  235.32  46610548  \n",
       "2017-04-11 00:00:00-04:00  235.180  233.340  235.04  63951745  \n",
       "2017-04-12 00:00:00-04:00  234.960  233.770  234.10  55338215  "
      ]
     },
     "execution_count": 90,
     "metadata": {},
     "output_type": "execute_result"
    }
   ],
   "source": [
    "# Get 5 years' worth of historical data for SPY and AGG\n",
    "df_stock_data = alpaca.get_barset(\n",
    "    ticker,\n",
    "    timeframe,\n",
    "    start=start_date,\n",
    "    end=end_date,\n",
    "    limit=1000,\n",
    ").df\n",
    "\n",
    "df_stock_data.head()\n",
    "\n",
    "# Display sample data\n",
    "df_stock_data.head()"
   ]
  },
  {
   "cell_type": "code",
   "execution_count": 91,
   "metadata": {},
   "outputs": [
    {
     "data": {
      "text/plain": [
       "pandas.core.frame.DataFrame"
      ]
     },
     "execution_count": 91,
     "metadata": {},
     "output_type": "execute_result"
    }
   ],
   "source": [
    "# Configuring a Monte Carlo simulation to forecast 30 years cumulative returns\n",
    "MC_30year = MCSimulation(\n",
    "    portfolio_data = df_stock_data,\n",
    "    weights = [.60,.40],\n",
    "    num_simulation = 500,\n",
    "    num_trading_days = 252*30\n",
    ")\n",
    "\n",
    "type(MC_30year.portfolio_data)"
   ]
  },
  {
   "cell_type": "code",
   "execution_count": null,
   "metadata": {},
   "outputs": [],
   "source": []
  },
  {
   "cell_type": "code",
   "execution_count": 92,
   "metadata": {},
   "outputs": [
    {
     "data": {
      "text/html": [
       "<div>\n",
       "<style scoped>\n",
       "    .dataframe tbody tr th:only-of-type {\n",
       "        vertical-align: middle;\n",
       "    }\n",
       "\n",
       "    .dataframe tbody tr th {\n",
       "        vertical-align: top;\n",
       "    }\n",
       "\n",
       "    .dataframe thead tr th {\n",
       "        text-align: left;\n",
       "    }\n",
       "\n",
       "    .dataframe thead tr:last-of-type th {\n",
       "        text-align: right;\n",
       "    }\n",
       "</style>\n",
       "<table border=\"1\" class=\"dataframe\">\n",
       "  <thead>\n",
       "    <tr>\n",
       "      <th></th>\n",
       "      <th colspan=\"6\" halign=\"left\">AGG</th>\n",
       "      <th colspan=\"6\" halign=\"left\">SPY</th>\n",
       "    </tr>\n",
       "    <tr>\n",
       "      <th></th>\n",
       "      <th>open</th>\n",
       "      <th>high</th>\n",
       "      <th>low</th>\n",
       "      <th>close</th>\n",
       "      <th>volume</th>\n",
       "      <th>daily_return</th>\n",
       "      <th>open</th>\n",
       "      <th>high</th>\n",
       "      <th>low</th>\n",
       "      <th>close</th>\n",
       "      <th>volume</th>\n",
       "      <th>daily_return</th>\n",
       "    </tr>\n",
       "    <tr>\n",
       "      <th>time</th>\n",
       "      <th></th>\n",
       "      <th></th>\n",
       "      <th></th>\n",
       "      <th></th>\n",
       "      <th></th>\n",
       "      <th></th>\n",
       "      <th></th>\n",
       "      <th></th>\n",
       "      <th></th>\n",
       "      <th></th>\n",
       "      <th></th>\n",
       "      <th></th>\n",
       "    </tr>\n",
       "  </thead>\n",
       "  <tbody>\n",
       "    <tr>\n",
       "      <th>2017-04-06 00:00:00-04:00</th>\n",
       "      <td>108.64</td>\n",
       "      <td>108.71</td>\n",
       "      <td>108.4800</td>\n",
       "      <td>108.67</td>\n",
       "      <td>1599535</td>\n",
       "      <td>NaN</td>\n",
       "      <td>234.95</td>\n",
       "      <td>236.040</td>\n",
       "      <td>234.425</td>\n",
       "      <td>235.39</td>\n",
       "      <td>53559902</td>\n",
       "      <td>NaN</td>\n",
       "    </tr>\n",
       "    <tr>\n",
       "      <th>2017-04-07 00:00:00-04:00</th>\n",
       "      <td>108.80</td>\n",
       "      <td>108.89</td>\n",
       "      <td>108.4200</td>\n",
       "      <td>108.44</td>\n",
       "      <td>1668826</td>\n",
       "      <td>-0.002116</td>\n",
       "      <td>235.15</td>\n",
       "      <td>236.000</td>\n",
       "      <td>234.640</td>\n",
       "      <td>235.17</td>\n",
       "      <td>53293901</td>\n",
       "      <td>-0.000935</td>\n",
       "    </tr>\n",
       "    <tr>\n",
       "      <th>2017-04-10 00:00:00-04:00</th>\n",
       "      <td>108.53</td>\n",
       "      <td>108.65</td>\n",
       "      <td>108.4901</td>\n",
       "      <td>108.57</td>\n",
       "      <td>1751500</td>\n",
       "      <td>0.001199</td>\n",
       "      <td>235.36</td>\n",
       "      <td>236.255</td>\n",
       "      <td>234.730</td>\n",
       "      <td>235.32</td>\n",
       "      <td>46610548</td>\n",
       "      <td>0.000638</td>\n",
       "    </tr>\n",
       "    <tr>\n",
       "      <th>2017-04-11 00:00:00-04:00</th>\n",
       "      <td>108.76</td>\n",
       "      <td>108.98</td>\n",
       "      <td>108.7500</td>\n",
       "      <td>108.90</td>\n",
       "      <td>2054745</td>\n",
       "      <td>0.003040</td>\n",
       "      <td>234.87</td>\n",
       "      <td>235.180</td>\n",
       "      <td>233.340</td>\n",
       "      <td>235.04</td>\n",
       "      <td>63951745</td>\n",
       "      <td>-0.001190</td>\n",
       "    </tr>\n",
       "    <tr>\n",
       "      <th>2017-04-12 00:00:00-04:00</th>\n",
       "      <td>108.93</td>\n",
       "      <td>109.20</td>\n",
       "      <td>108.8900</td>\n",
       "      <td>109.14</td>\n",
       "      <td>2243678</td>\n",
       "      <td>0.002204</td>\n",
       "      <td>234.74</td>\n",
       "      <td>234.960</td>\n",
       "      <td>233.770</td>\n",
       "      <td>234.10</td>\n",
       "      <td>55338215</td>\n",
       "      <td>-0.003999</td>\n",
       "    </tr>\n",
       "  </tbody>\n",
       "</table>\n",
       "</div>"
      ],
      "text/plain": [
       "                              AGG                                     \\\n",
       "                             open    high       low   close   volume   \n",
       "time                                                                   \n",
       "2017-04-06 00:00:00-04:00  108.64  108.71  108.4800  108.67  1599535   \n",
       "2017-04-07 00:00:00-04:00  108.80  108.89  108.4200  108.44  1668826   \n",
       "2017-04-10 00:00:00-04:00  108.53  108.65  108.4901  108.57  1751500   \n",
       "2017-04-11 00:00:00-04:00  108.76  108.98  108.7500  108.90  2054745   \n",
       "2017-04-12 00:00:00-04:00  108.93  109.20  108.8900  109.14  2243678   \n",
       "\n",
       "                                           SPY                            \\\n",
       "                          daily_return    open     high      low   close   \n",
       "time                                                                       \n",
       "2017-04-06 00:00:00-04:00          NaN  234.95  236.040  234.425  235.39   \n",
       "2017-04-07 00:00:00-04:00    -0.002116  235.15  236.000  234.640  235.17   \n",
       "2017-04-10 00:00:00-04:00     0.001199  235.36  236.255  234.730  235.32   \n",
       "2017-04-11 00:00:00-04:00     0.003040  234.87  235.180  233.340  235.04   \n",
       "2017-04-12 00:00:00-04:00     0.002204  234.74  234.960  233.770  234.10   \n",
       "\n",
       "                                                  \n",
       "                             volume daily_return  \n",
       "time                                              \n",
       "2017-04-06 00:00:00-04:00  53559902          NaN  \n",
       "2017-04-07 00:00:00-04:00  53293901    -0.000935  \n",
       "2017-04-10 00:00:00-04:00  46610548     0.000638  \n",
       "2017-04-11 00:00:00-04:00  63951745    -0.001190  \n",
       "2017-04-12 00:00:00-04:00  55338215    -0.003999  "
      ]
     },
     "execution_count": 92,
     "metadata": {},
     "output_type": "execute_result"
    }
   ],
   "source": [
    "# Printing the simulation input data\n",
    "MC_30year.portfolio_data.head()"
   ]
  },
  {
   "cell_type": "code",
   "execution_count": 93,
   "metadata": {},
   "outputs": [
    {
     "name": "stdout",
     "output_type": "stream",
     "text": [
      "Running Monte Carlo simulation number 0.\n",
      "Running Monte Carlo simulation number 10.\n",
      "Running Monte Carlo simulation number 20.\n",
      "Running Monte Carlo simulation number 30.\n",
      "Running Monte Carlo simulation number 40.\n",
      "Running Monte Carlo simulation number 50.\n",
      "Running Monte Carlo simulation number 60.\n",
      "Running Monte Carlo simulation number 70.\n",
      "Running Monte Carlo simulation number 80.\n",
      "Running Monte Carlo simulation number 90.\n",
      "Running Monte Carlo simulation number 100.\n",
      "Running Monte Carlo simulation number 110.\n",
      "Running Monte Carlo simulation number 120.\n",
      "Running Monte Carlo simulation number 130.\n",
      "Running Monte Carlo simulation number 140.\n",
      "Running Monte Carlo simulation number 150.\n",
      "Running Monte Carlo simulation number 160.\n",
      "Running Monte Carlo simulation number 170.\n",
      "Running Monte Carlo simulation number 180.\n",
      "Running Monte Carlo simulation number 190.\n",
      "Running Monte Carlo simulation number 200.\n",
      "Running Monte Carlo simulation number 210.\n",
      "Running Monte Carlo simulation number 220.\n",
      "Running Monte Carlo simulation number 230.\n",
      "Running Monte Carlo simulation number 240.\n",
      "Running Monte Carlo simulation number 250.\n",
      "Running Monte Carlo simulation number 260.\n",
      "Running Monte Carlo simulation number 270.\n",
      "Running Monte Carlo simulation number 280.\n",
      "Running Monte Carlo simulation number 290.\n",
      "Running Monte Carlo simulation number 300.\n",
      "Running Monte Carlo simulation number 310.\n",
      "Running Monte Carlo simulation number 320.\n",
      "Running Monte Carlo simulation number 330.\n",
      "Running Monte Carlo simulation number 340.\n",
      "Running Monte Carlo simulation number 350.\n",
      "Running Monte Carlo simulation number 360.\n",
      "Running Monte Carlo simulation number 370.\n",
      "Running Monte Carlo simulation number 380.\n",
      "Running Monte Carlo simulation number 390.\n",
      "Running Monte Carlo simulation number 400.\n",
      "Running Monte Carlo simulation number 410.\n",
      "Running Monte Carlo simulation number 420.\n",
      "Running Monte Carlo simulation number 430.\n",
      "Running Monte Carlo simulation number 440.\n",
      "Running Monte Carlo simulation number 450.\n",
      "Running Monte Carlo simulation number 460.\n",
      "Running Monte Carlo simulation number 470.\n",
      "Running Monte Carlo simulation number 480.\n",
      "Running Monte Carlo simulation number 490.\n"
     ]
    },
    {
     "data": {
      "text/html": [
       "<div>\n",
       "<style scoped>\n",
       "    .dataframe tbody tr th:only-of-type {\n",
       "        vertical-align: middle;\n",
       "    }\n",
       "\n",
       "    .dataframe tbody tr th {\n",
       "        vertical-align: top;\n",
       "    }\n",
       "\n",
       "    .dataframe thead th {\n",
       "        text-align: right;\n",
       "    }\n",
       "</style>\n",
       "<table border=\"1\" class=\"dataframe\">\n",
       "  <thead>\n",
       "    <tr style=\"text-align: right;\">\n",
       "      <th></th>\n",
       "      <th>0</th>\n",
       "      <th>1</th>\n",
       "      <th>2</th>\n",
       "      <th>3</th>\n",
       "      <th>4</th>\n",
       "      <th>5</th>\n",
       "      <th>6</th>\n",
       "      <th>7</th>\n",
       "      <th>8</th>\n",
       "      <th>9</th>\n",
       "      <th>...</th>\n",
       "      <th>490</th>\n",
       "      <th>491</th>\n",
       "      <th>492</th>\n",
       "      <th>493</th>\n",
       "      <th>494</th>\n",
       "      <th>495</th>\n",
       "      <th>496</th>\n",
       "      <th>497</th>\n",
       "      <th>498</th>\n",
       "      <th>499</th>\n",
       "    </tr>\n",
       "  </thead>\n",
       "  <tbody>\n",
       "    <tr>\n",
       "      <th>0</th>\n",
       "      <td>1.000000</td>\n",
       "      <td>1.000000</td>\n",
       "      <td>1.000000</td>\n",
       "      <td>1.000000</td>\n",
       "      <td>1.000000</td>\n",
       "      <td>1.000000</td>\n",
       "      <td>1.000000</td>\n",
       "      <td>1.000000</td>\n",
       "      <td>1.000000</td>\n",
       "      <td>1.000000</td>\n",
       "      <td>...</td>\n",
       "      <td>1.000000</td>\n",
       "      <td>1.000000</td>\n",
       "      <td>1.000000</td>\n",
       "      <td>1.000000</td>\n",
       "      <td>1.000000</td>\n",
       "      <td>1.000000</td>\n",
       "      <td>1.000000</td>\n",
       "      <td>1.000000</td>\n",
       "      <td>1.000000</td>\n",
       "      <td>1.000000</td>\n",
       "    </tr>\n",
       "    <tr>\n",
       "      <th>1</th>\n",
       "      <td>1.005102</td>\n",
       "      <td>0.995897</td>\n",
       "      <td>0.997296</td>\n",
       "      <td>1.000772</td>\n",
       "      <td>1.000363</td>\n",
       "      <td>0.998251</td>\n",
       "      <td>0.991307</td>\n",
       "      <td>0.998446</td>\n",
       "      <td>0.996310</td>\n",
       "      <td>1.001655</td>\n",
       "      <td>...</td>\n",
       "      <td>0.998846</td>\n",
       "      <td>0.996833</td>\n",
       "      <td>1.012850</td>\n",
       "      <td>1.001032</td>\n",
       "      <td>1.002024</td>\n",
       "      <td>1.002424</td>\n",
       "      <td>1.002222</td>\n",
       "      <td>1.013229</td>\n",
       "      <td>1.001578</td>\n",
       "      <td>1.011396</td>\n",
       "    </tr>\n",
       "    <tr>\n",
       "      <th>2</th>\n",
       "      <td>1.008855</td>\n",
       "      <td>0.993116</td>\n",
       "      <td>0.997503</td>\n",
       "      <td>0.998585</td>\n",
       "      <td>1.003552</td>\n",
       "      <td>1.000322</td>\n",
       "      <td>0.994558</td>\n",
       "      <td>1.002261</td>\n",
       "      <td>0.993181</td>\n",
       "      <td>1.001754</td>\n",
       "      <td>...</td>\n",
       "      <td>0.997899</td>\n",
       "      <td>0.998547</td>\n",
       "      <td>1.001996</td>\n",
       "      <td>1.007370</td>\n",
       "      <td>1.007917</td>\n",
       "      <td>1.004566</td>\n",
       "      <td>1.004531</td>\n",
       "      <td>1.006663</td>\n",
       "      <td>0.993671</td>\n",
       "      <td>1.000504</td>\n",
       "    </tr>\n",
       "    <tr>\n",
       "      <th>3</th>\n",
       "      <td>1.010025</td>\n",
       "      <td>0.997352</td>\n",
       "      <td>0.998358</td>\n",
       "      <td>1.003919</td>\n",
       "      <td>0.999376</td>\n",
       "      <td>0.990065</td>\n",
       "      <td>0.988102</td>\n",
       "      <td>0.995424</td>\n",
       "      <td>0.996796</td>\n",
       "      <td>0.990375</td>\n",
       "      <td>...</td>\n",
       "      <td>0.996312</td>\n",
       "      <td>0.993799</td>\n",
       "      <td>1.006312</td>\n",
       "      <td>1.002509</td>\n",
       "      <td>1.011029</td>\n",
       "      <td>1.002819</td>\n",
       "      <td>0.999268</td>\n",
       "      <td>1.004703</td>\n",
       "      <td>0.988251</td>\n",
       "      <td>1.006887</td>\n",
       "    </tr>\n",
       "    <tr>\n",
       "      <th>4</th>\n",
       "      <td>1.013635</td>\n",
       "      <td>1.002080</td>\n",
       "      <td>0.992110</td>\n",
       "      <td>0.998511</td>\n",
       "      <td>0.994578</td>\n",
       "      <td>0.990792</td>\n",
       "      <td>0.988993</td>\n",
       "      <td>0.989328</td>\n",
       "      <td>0.995284</td>\n",
       "      <td>0.988877</td>\n",
       "      <td>...</td>\n",
       "      <td>1.003365</td>\n",
       "      <td>0.991954</td>\n",
       "      <td>1.009240</td>\n",
       "      <td>1.002293</td>\n",
       "      <td>1.009127</td>\n",
       "      <td>1.004018</td>\n",
       "      <td>0.996713</td>\n",
       "      <td>0.996362</td>\n",
       "      <td>0.985174</td>\n",
       "      <td>1.007307</td>\n",
       "    </tr>\n",
       "    <tr>\n",
       "      <th>...</th>\n",
       "      <td>...</td>\n",
       "      <td>...</td>\n",
       "      <td>...</td>\n",
       "      <td>...</td>\n",
       "      <td>...</td>\n",
       "      <td>...</td>\n",
       "      <td>...</td>\n",
       "      <td>...</td>\n",
       "      <td>...</td>\n",
       "      <td>...</td>\n",
       "      <td>...</td>\n",
       "      <td>...</td>\n",
       "      <td>...</td>\n",
       "      <td>...</td>\n",
       "      <td>...</td>\n",
       "      <td>...</td>\n",
       "      <td>...</td>\n",
       "      <td>...</td>\n",
       "      <td>...</td>\n",
       "      <td>...</td>\n",
       "      <td>...</td>\n",
       "    </tr>\n",
       "    <tr>\n",
       "      <th>7556</th>\n",
       "      <td>6.055552</td>\n",
       "      <td>16.314033</td>\n",
       "      <td>6.054531</td>\n",
       "      <td>6.654553</td>\n",
       "      <td>5.589434</td>\n",
       "      <td>12.132022</td>\n",
       "      <td>5.839372</td>\n",
       "      <td>5.434032</td>\n",
       "      <td>3.554522</td>\n",
       "      <td>6.705832</td>\n",
       "      <td>...</td>\n",
       "      <td>7.582178</td>\n",
       "      <td>13.436530</td>\n",
       "      <td>2.140216</td>\n",
       "      <td>10.021782</td>\n",
       "      <td>5.919944</td>\n",
       "      <td>20.765286</td>\n",
       "      <td>5.914031</td>\n",
       "      <td>8.698909</td>\n",
       "      <td>6.222690</td>\n",
       "      <td>9.282806</td>\n",
       "    </tr>\n",
       "    <tr>\n",
       "      <th>7557</th>\n",
       "      <td>5.991767</td>\n",
       "      <td>16.330142</td>\n",
       "      <td>6.121921</td>\n",
       "      <td>6.625480</td>\n",
       "      <td>5.605145</td>\n",
       "      <td>12.276827</td>\n",
       "      <td>5.838959</td>\n",
       "      <td>5.419963</td>\n",
       "      <td>3.542409</td>\n",
       "      <td>6.770946</td>\n",
       "      <td>...</td>\n",
       "      <td>7.577304</td>\n",
       "      <td>13.534966</td>\n",
       "      <td>2.145887</td>\n",
       "      <td>10.005619</td>\n",
       "      <td>5.930572</td>\n",
       "      <td>20.852337</td>\n",
       "      <td>5.906024</td>\n",
       "      <td>8.623040</td>\n",
       "      <td>6.256595</td>\n",
       "      <td>9.321117</td>\n",
       "    </tr>\n",
       "    <tr>\n",
       "      <th>7558</th>\n",
       "      <td>6.022334</td>\n",
       "      <td>16.209984</td>\n",
       "      <td>6.079563</td>\n",
       "      <td>6.588784</td>\n",
       "      <td>5.618216</td>\n",
       "      <td>12.236795</td>\n",
       "      <td>5.823533</td>\n",
       "      <td>5.368286</td>\n",
       "      <td>3.538556</td>\n",
       "      <td>6.817278</td>\n",
       "      <td>...</td>\n",
       "      <td>7.581770</td>\n",
       "      <td>13.466995</td>\n",
       "      <td>2.155096</td>\n",
       "      <td>10.030354</td>\n",
       "      <td>5.909617</td>\n",
       "      <td>20.988698</td>\n",
       "      <td>5.926969</td>\n",
       "      <td>8.604424</td>\n",
       "      <td>6.303710</td>\n",
       "      <td>9.376214</td>\n",
       "    </tr>\n",
       "    <tr>\n",
       "      <th>7559</th>\n",
       "      <td>6.003195</td>\n",
       "      <td>16.121648</td>\n",
       "      <td>6.079392</td>\n",
       "      <td>6.599730</td>\n",
       "      <td>5.587268</td>\n",
       "      <td>12.283620</td>\n",
       "      <td>5.834469</td>\n",
       "      <td>5.357836</td>\n",
       "      <td>3.522443</td>\n",
       "      <td>6.737118</td>\n",
       "      <td>...</td>\n",
       "      <td>7.569140</td>\n",
       "      <td>13.533841</td>\n",
       "      <td>2.156555</td>\n",
       "      <td>10.069448</td>\n",
       "      <td>5.954300</td>\n",
       "      <td>20.897075</td>\n",
       "      <td>5.962467</td>\n",
       "      <td>8.547734</td>\n",
       "      <td>6.271845</td>\n",
       "      <td>9.430046</td>\n",
       "    </tr>\n",
       "    <tr>\n",
       "      <th>7560</th>\n",
       "      <td>6.010835</td>\n",
       "      <td>16.218561</td>\n",
       "      <td>6.121993</td>\n",
       "      <td>6.583239</td>\n",
       "      <td>5.604780</td>\n",
       "      <td>12.335235</td>\n",
       "      <td>5.821371</td>\n",
       "      <td>5.363551</td>\n",
       "      <td>3.525132</td>\n",
       "      <td>6.842977</td>\n",
       "      <td>...</td>\n",
       "      <td>7.550744</td>\n",
       "      <td>13.442757</td>\n",
       "      <td>2.159818</td>\n",
       "      <td>10.057885</td>\n",
       "      <td>5.931630</td>\n",
       "      <td>20.766009</td>\n",
       "      <td>6.001319</td>\n",
       "      <td>8.471297</td>\n",
       "      <td>6.283091</td>\n",
       "      <td>9.525873</td>\n",
       "    </tr>\n",
       "  </tbody>\n",
       "</table>\n",
       "<p>7561 rows × 500 columns</p>\n",
       "</div>"
      ],
      "text/plain": [
       "           0          1         2         3         4          5         6    \\\n",
       "0     1.000000   1.000000  1.000000  1.000000  1.000000   1.000000  1.000000   \n",
       "1     1.005102   0.995897  0.997296  1.000772  1.000363   0.998251  0.991307   \n",
       "2     1.008855   0.993116  0.997503  0.998585  1.003552   1.000322  0.994558   \n",
       "3     1.010025   0.997352  0.998358  1.003919  0.999376   0.990065  0.988102   \n",
       "4     1.013635   1.002080  0.992110  0.998511  0.994578   0.990792  0.988993   \n",
       "...        ...        ...       ...       ...       ...        ...       ...   \n",
       "7556  6.055552  16.314033  6.054531  6.654553  5.589434  12.132022  5.839372   \n",
       "7557  5.991767  16.330142  6.121921  6.625480  5.605145  12.276827  5.838959   \n",
       "7558  6.022334  16.209984  6.079563  6.588784  5.618216  12.236795  5.823533   \n",
       "7559  6.003195  16.121648  6.079392  6.599730  5.587268  12.283620  5.834469   \n",
       "7560  6.010835  16.218561  6.121993  6.583239  5.604780  12.335235  5.821371   \n",
       "\n",
       "           7         8         9    ...       490        491       492  \\\n",
       "0     1.000000  1.000000  1.000000  ...  1.000000   1.000000  1.000000   \n",
       "1     0.998446  0.996310  1.001655  ...  0.998846   0.996833  1.012850   \n",
       "2     1.002261  0.993181  1.001754  ...  0.997899   0.998547  1.001996   \n",
       "3     0.995424  0.996796  0.990375  ...  0.996312   0.993799  1.006312   \n",
       "4     0.989328  0.995284  0.988877  ...  1.003365   0.991954  1.009240   \n",
       "...        ...       ...       ...  ...       ...        ...       ...   \n",
       "7556  5.434032  3.554522  6.705832  ...  7.582178  13.436530  2.140216   \n",
       "7557  5.419963  3.542409  6.770946  ...  7.577304  13.534966  2.145887   \n",
       "7558  5.368286  3.538556  6.817278  ...  7.581770  13.466995  2.155096   \n",
       "7559  5.357836  3.522443  6.737118  ...  7.569140  13.533841  2.156555   \n",
       "7560  5.363551  3.525132  6.842977  ...  7.550744  13.442757  2.159818   \n",
       "\n",
       "            493       494        495       496       497       498       499  \n",
       "0      1.000000  1.000000   1.000000  1.000000  1.000000  1.000000  1.000000  \n",
       "1      1.001032  1.002024   1.002424  1.002222  1.013229  1.001578  1.011396  \n",
       "2      1.007370  1.007917   1.004566  1.004531  1.006663  0.993671  1.000504  \n",
       "3      1.002509  1.011029   1.002819  0.999268  1.004703  0.988251  1.006887  \n",
       "4      1.002293  1.009127   1.004018  0.996713  0.996362  0.985174  1.007307  \n",
       "...         ...       ...        ...       ...       ...       ...       ...  \n",
       "7556  10.021782  5.919944  20.765286  5.914031  8.698909  6.222690  9.282806  \n",
       "7557  10.005619  5.930572  20.852337  5.906024  8.623040  6.256595  9.321117  \n",
       "7558  10.030354  5.909617  20.988698  5.926969  8.604424  6.303710  9.376214  \n",
       "7559  10.069448  5.954300  20.897075  5.962467  8.547734  6.271845  9.430046  \n",
       "7560  10.057885  5.931630  20.766009  6.001319  8.471297  6.283091  9.525873  \n",
       "\n",
       "[7561 rows x 500 columns]"
      ]
     },
     "execution_count": 93,
     "metadata": {},
     "output_type": "execute_result"
    }
   ],
   "source": [
    "# Running a Monte Carlo simulation to forecast 30 years cumulative returns\n",
    "MC_30year.calc_cumulative_return()"
   ]
  },
  {
   "cell_type": "code",
   "execution_count": 69,
   "metadata": {},
   "outputs": [
    {
     "data": {
      "image/png": "[encoded data removed]",
      "text/plain": [
       "<Figure size 432x288 with 1 Axes>"
      ]
     },
     "metadata": {
      "needs_background": "light"
     },
     "output_type": "display_data"
    }
   ],
   "source": [
    "# Plot simulation outcomes\n",
    "line_plot= MC_30year.plot_simulation()"
   ]
  },
  {
   "cell_type": "code",
   "execution_count": 70,
   "metadata": {},
   "outputs": [
    {
     "data": {
      "image/png": "[encoded data removed]",
      "text/plain": [
       "<Figure size 432x288 with 1 Axes>"
      ]
     },
     "metadata": {
      "needs_background": "light"
     },
     "output_type": "display_data"
    }
   ],
   "source": [
    "# Plot probability distribution and confidence intervals\n",
    "dist_plot= MC_30year.plot_distribution()"
   ]
  },
  {
   "cell_type": "markdown",
   "metadata": {},
   "source": [
    "### Retirement Analysis"
   ]
  },
  {
   "cell_type": "code",
   "execution_count": 71,
   "metadata": {},
   "outputs": [
    {
     "name": "stdout",
     "output_type": "stream",
     "text": [
      "count           500.000000\n",
      "mean              7.917482\n",
      "std               4.088940\n",
      "min               1.549077\n",
      "25%               5.179156\n",
      "50%               6.898396\n",
      "75%               9.503310\n",
      "max              26.480374\n",
      "95% CI Lower      2.650719\n",
      "95% CI Upper     19.451335\n",
      "Name: 7560, dtype: float64\n"
     ]
    }
   ],
   "source": [
    "# Fetch summary statistics from the Monte Carlo simulation results\n",
    "summary_stats =MC_30year.summarize_cumulative_return()\n",
    "\n",
    "\n",
    "# Print summary statistics\n",
    "print(summary_stats)"
   ]
  },
  {
   "cell_type": "markdown",
   "metadata": {},
   "source": [
    "### Calculate the expected portfolio return at the 95% lower and upper confidence intervals based on a `$20,000` initial investment."
   ]
  },
  {
   "cell_type": "code",
   "execution_count": 74,
   "metadata": {},
   "outputs": [
    {
     "name": "stdout",
     "output_type": "stream",
     "text": [
      "There is a 95% chance that an initial investment of $20000 in the portfolio over the next 30 years will end within in the range of $53014.37 and $389026.7\n"
     ]
    }
   ],
   "source": [
    "# Set initial investment\n",
    "initial_investment = 20000\n",
    "\n",
    "# Use the lower and upper `95%` confidence intervals to calculate the range of the possible outcomes of our $20,000\n",
    "ci_lower = round(summary_stats[8]*20000,2)\n",
    "ci_upper = round(summary_stats[9]*20000,2)\n",
    "\n",
    "# Print results\n",
    "print(f\"There is a 95% chance that an initial investment of ${initial_investment} in the portfolio\"\n",
    "      f\" over the next 30 years will end within in the range of\"\n",
    "      f\" ${ci_lower} and ${ci_upper: .02f}\")"
   ]
  },
  {
   "cell_type": "markdown",
   "metadata": {},
   "source": [
    "### Calculate the expected portfolio return at the `95%` lower and upper confidence intervals based on a `50%` increase in the initial investment."
   ]
  },
  {
   "cell_type": "code",
   "execution_count": 76,
   "metadata": {},
   "outputs": [
    {
     "name": "stdout",
     "output_type": "stream",
     "text": [
      "There is a 95% chance that an initial investment of $30000.0 in the portfolio over the next 30 years will end within in the range of $79521.56 and $583540.05\n"
     ]
    }
   ],
   "source": [
    "# Set initial investment\n",
    "initial_investment = 20000 * 1.5\n",
    "\n",
    "# Use the lower and upper `95%` confidence intervals to calculate the range of the possible outcomes of our $30,000\n",
    "ci_lower = round(summary_stats[8]*30000,2)\n",
    "ci_upper = round(summary_stats[9]*30000,2)\n",
    "# Print results\n",
    "print(f\"There is a 95% chance that an initial investment of ${initial_investment} in the portfolio\"\n",
    "      f\" over the next 30 years will end within in the range of\"\n",
    "      f\" ${ci_lower} and ${ci_upper}\")"
   ]
  },
  {
   "cell_type": "markdown",
   "metadata": {},
   "source": [
    "## Optional Challenge - Early Retirement\n",
    "\n",
    "\n",
    "### Five Years Retirement Option"
   ]
  },
  {
   "cell_type": "code",
   "execution_count": null,
   "metadata": {},
   "outputs": [],
   "source": [
    "# Configuring a Monte Carlo simulation to forecast 5 years cumulative returns\n",
    "MC_5year = MCSimulation(\n",
    "    portfolio_data = df_stock_data,\n",
    "    weights = [.60,.40],\n",
    "    num_simulation = 500,\n",
    "    num_trading_days = 252*5\n",
    ")\n",
    "\n",
    "type(MC_5year.portfolio_data)"
   ]
  },
  {
   "cell_type": "code",
   "execution_count": null,
   "metadata": {},
   "outputs": [],
   "source": [
    "# Running a Monte Carlo simulation to forecast 5 years cumulative returns\n",
    "MC_5year.calc_cumulative_return()"
   ]
  },
  {
   "cell_type": "code",
   "execution_count": null,
   "metadata": {},
   "outputs": [],
   "source": [
    "# Plot simulation outcomes\n",
    "line_plot2= MC_5year.plot_simulation()"
   ]
  },
  {
   "cell_type": "code",
   "execution_count": null,
   "metadata": {},
   "outputs": [],
   "source": [
    "# Plot probability distribution and confidence intervals\n",
    "dist_plot2= MC_5year.plot_distribution()"
   ]
  },
  {
   "cell_type": "code",
   "execution_count": null,
   "metadata": {},
   "outputs": [],
   "source": [
    "# Fetch summary statistics from the Monte Carlo simulation results\n",
    "summary_stats2 =MC_5year.summarize_cumulative_return()\n",
    "\n",
    "# Print summary statistics\n",
    "print(summary_stats2)"
   ]
  },
  {
   "cell_type": "code",
   "execution_count": null,
   "metadata": {},
   "outputs": [],
   "source": [
    "# Set initial investment\n",
    "initial_investment = 20000\n",
    "\n",
    "# Use the lower and upper `95%` confidence intervals to calculate the range of the possible outcomes of our $60,000\n",
    "ci_lower_five = round(summary_stats2[8]*60000,2)\n",
    "ci_upper_five = round(summary_stats2[9]*60000,2)\n",
    "# Print results\n",
    "print(f\"There is a 95% chance that an initial investment of ${initial_investment} in the portfolio\"\n",
    "      f\" over the next 5 years will end within in the range of\"\n",
    "      f\" ${ci_lower_five} and ${ci_upper_five}\")"
   ]
  },
  {
   "cell_type": "markdown",
   "metadata": {},
   "source": [
    "### Ten Years Retirement Option"
   ]
  },
  {
   "cell_type": "code",
   "execution_count": null,
   "metadata": {},
   "outputs": [],
   "source": [
    "# Configuring a Monte Carlo simulation to forecast 10 years cumulative returns\n",
    "MC_10year = MCSimulation(\n",
    "    portfolio_data = df_stock_data,\n",
    "    weights = [.60,.40],\n",
    "    num_simulation = 500,\n",
    "    num_trading_days = 252*10\n",
    ")\n",
    "\n",
    "type(MC_10year.portfolio_data)"
   ]
  },
  {
   "cell_type": "code",
   "execution_count": null,
   "metadata": {},
   "outputs": [],
   "source": [
    "# Running a Monte Carlo simulation to forecast 10 years cumulative returns\n",
    "MC_10year.calc_cumulative_return()"
   ]
  },
  {
   "cell_type": "code",
   "execution_count": null,
   "metadata": {},
   "outputs": [],
   "source": [
    "# Plot simulation outcomes\n",
    "line_plot3= MC_10year.plot_simulation()"
   ]
  },
  {
   "cell_type": "code",
   "execution_count": null,
   "metadata": {},
   "outputs": [],
   "source": [
    "# Plot probability distribution and confidence intervals\n",
    "dist_plot3= MC_10year.plot_distribution()"
   ]
  },
  {
   "cell_type": "code",
   "execution_count": null,
   "metadata": {},
   "outputs": [],
   "source": [
    "# Fetch summary statistics from the Monte Carlo simulation results\n",
    "summary_stats3 =MC_10year.summarize_cumulative_return()\n",
    "\n",
    "# Print summary statistics\n",
    "print(summary_stats3)"
   ]
  },
  {
   "cell_type": "code",
   "execution_count": null,
   "metadata": {},
   "outputs": [],
   "source": [
    "# Set initial investment\n",
    "initial_investment = 20000\n",
    "\n",
    "# Use the lower and upper `95%` confidence intervals to calculate the range of the possible outcomes of our $60,000\n",
    "ci_lower_ten = round(summary_stats3[8]*60000,2)\n",
    "ci_upper_ten = round(summary_stats3[9]*60000,2)\n",
    "# Print results\n",
    "print(f\"There is a 95% chance that an initial investment of ${initial_investment} in the portfolio\"\n",
    "      f\" over the next 10 years will end within in the range of\"\n",
    "      f\" ${ci_lower_ten} and ${ci_upper_ten}\")"
   ]
  }
 ],
 "metadata": {
  "kernelspec": {
   "display_name": "Python 3",
   "language": "python",
   "name": "python3"
  },
  "language_info": {
   "codemirror_mode": {
    "name": "ipython",
    "version": 3
   },
   "file_extension": ".py",
   "mimetype": "text/x-python",
   "name": "python",
   "nbconvert_exporter": "python",
   "pygments_lexer": "ipython3",
   "version": "3.8.5"
  }
 },
 "nbformat": 4,
 "nbformat_minor": 4
}
